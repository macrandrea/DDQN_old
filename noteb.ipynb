{
 "cells": [
  {
   "cell_type": "code",
   "execution_count": null,
   "metadata": {},
   "outputs": [],
   "source": [
    "from Agente import Agente\n",
    "from Agente import ReplayMemory\n",
    "from Ambiente import Ambiente\n",
    "import numpy as np\n",
    "import math as m\n",
    "from tqdm import tqdm\n",
    "from collections import namedtuple, deque"
   ]
  },
  {
   "cell_type": "code",
   "execution_count": null,
   "metadata": {},
   "outputs": [],
   "source": [
    "stock_dict = {\"train_drift\": 6000}\n",
    "stock_dict_pre_training = {\"train_drift\": 6000}\n",
    "for stock in tqdm(stock_dict.keys()):\n",
    "    for i in tqdm(range(stock_dict[stock])):\n",
    "        print('a')"
   ]
  },
  {
   "cell_type": "code",
   "execution_count": 8,
   "metadata": {},
   "outputs": [
    {
     "name": "stdout",
     "output_type": "stream",
     "text": [
      "1\n"
     ]
    }
   ],
   "source": [
    "data = Ambiente().gbm()#.flatten()\n",
    "data.shape\n",
    "for i in range(data.shape[1]):\n",
    "    print(1)"
   ]
  },
  {
   "cell_type": "code",
   "execution_count": 9,
   "metadata": {},
   "outputs": [],
   "source": [
    "data  = Ambiente().gbm().flatten()\n",
    "price = Ambiente().returns(data)\n",
    "var   = Ambiente().var(data)"
   ]
  },
  {
   "cell_type": "code",
   "execution_count": 15,
   "metadata": {},
   "outputs": [],
   "source": [
    "def sliceData(price):\n",
    "\n",
    "    step = int(len(price)/5)\n",
    "    x = np.zeros((5,len(price)))\n",
    "\n",
    "    for i, ii in zip(range(5), range(step, len(price), step)): x[i, :] = price[:ii]\n",
    "\n",
    "    return x\n"
   ]
  },
  {
   "cell_type": "code",
   "execution_count": 18,
   "metadata": {},
   "outputs": [
    {
     "data": {
      "text/plain": [
       "array([[ 0.08413904, -0.02446231,  0.03450381, ..., -0.17323144,\n",
       "        -0.28512496, -0.00542419],\n",
       "       [-0.02788854, -0.05042779,  0.1225011 , ...,  0.01412165,\n",
       "        -0.13095235, -0.04107346],\n",
       "       [-0.10459056,  0.01806601, -0.18673245, ...,  0.14391693,\n",
       "         0.05519131,  0.17003921],\n",
       "       [ 0.11730322,  0.11058403,  0.06121903, ...,  0.05277817,\n",
       "        -0.07057148,  0.10185494],\n",
       "       [-0.10312517,  0.04357311,  0.28024112, ...,  0.04025742,\n",
       "        -0.0817981 ,  0.22583087],\n",
       "       [ 0.        ,  0.        ,  0.        , ...,  0.        ,\n",
       "         0.        ,  0.        ]])"
      ]
     },
     "execution_count": 18,
     "metadata": {},
     "output_type": "execute_result"
    }
   ],
   "source": [
    "step = int(len(price)/6)\n",
    "y = np.zeros((6,step))\n",
    "#for i in range(0,5): \n",
    "#    for ii in range(step, len(price), step):\n",
    "for i, ii in zip(range(6), range(step, len(price), step)):\n",
    "    it = step * i\n",
    "    y[i, :] = price[it:ii]\n",
    "y"
   ]
  },
  {
   "cell_type": "code",
   "execution_count": 19,
   "metadata": {},
   "outputs": [],
   "source": [
    "def slicing(price):\n",
    "    \n",
    "    step = int(len(price)/6)\n",
    "    y = np.zeros((6,step))\n",
    "\n",
    "    for i, ii in zip(range(6), range(step, len(price), step)):\n",
    "        it = step * i\n",
    "        y[i, :] = price[it:ii]\n",
    "\n",
    "    return y"
   ]
  },
  {
   "cell_type": "code",
   "execution_count": 21,
   "metadata": {},
   "outputs": [
    {
     "data": {
      "text/plain": [
       "(6, 1200)"
      ]
     },
     "execution_count": 21,
     "metadata": {},
     "output_type": "execute_result"
    }
   ],
   "source": [
    "x = slicing(data)\n",
    "x.shape"
   ]
  },
  {
   "cell_type": "code",
   "execution_count": 6,
   "metadata": {},
   "outputs": [
    {
     "data": {
      "text/plain": [
       "0.011794253063756024"
      ]
     },
     "execution_count": 6,
     "metadata": {},
     "output_type": "execute_result"
    }
   ],
   "source": [
    "Ambiente().var(price[0:2])"
   ]
  },
  {
   "cell_type": "code",
   "execution_count": 31,
   "metadata": {},
   "outputs": [
    {
     "data": {
      "text/plain": [
       "[0.08413904289474772]"
      ]
     },
     "execution_count": 31,
     "metadata": {},
     "output_type": "execute_result"
    }
   ],
   "source": [
    "Ambiente().returns(data[0:2])"
   ]
  },
  {
   "cell_type": "code",
   "execution_count": 3,
   "metadata": {},
   "outputs": [
    {
     "data": {
      "text/plain": [
       "(State(inventory=20, time=0, qdr_var=0, price=[0.08413904289474772]),\n",
       " Action(amount_sold=0.9692100945217088))"
      ]
     },
     "execution_count": 3,
     "metadata": {},
     "output_type": "execute_result"
    }
   ],
   "source": [
    "a, b = Agente().reset(data)\n",
    "a,b"
   ]
  }
 ],
 "metadata": {
  "kernelspec": {
   "display_name": "base",
   "language": "python",
   "name": "python3"
  },
  "language_info": {
   "codemirror_mode": {
    "name": "ipython",
    "version": 3
   },
   "file_extension": ".py",
   "mimetype": "text/x-python",
   "name": "python",
   "nbconvert_exporter": "python",
   "pygments_lexer": "ipython3",
   "version": "3.9.12 (main, Apr  4 2022, 05:22:27) [MSC v.1916 64 bit (AMD64)]"
  },
  "orig_nbformat": 4,
  "vscode": {
   "interpreter": {
    "hash": "597e2b791014bf3f975e304e1e72922cb6b9245e0453d34e2c818a7120fc527f"
   }
  }
 },
 "nbformat": 4,
 "nbformat_minor": 2
}
